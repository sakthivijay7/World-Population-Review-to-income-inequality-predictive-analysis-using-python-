{
 "cells": [
  {
   "cell_type": "markdown",
   "id": "53525aab",
   "metadata": {},
   "source": [
    "Import library"
   ]
  },
  {
   "cell_type": "code",
   "execution_count": 1,
   "id": "89ffbc3a",
   "metadata": {},
   "outputs": [],
   "source": [
    "import pandas as pd\n",
    "import os"
   ]
  },
  {
   "cell_type": "code",
   "execution_count": 19,
   "id": "75a9592a",
   "metadata": {},
   "outputs": [
    {
     "name": "stdout",
     "output_type": "stream",
     "text": [
      "dataset\\all_data.csv\n"
     ]
    }
   ],
   "source": [
    "path=os.getcwd()\n",
    "folder=\"dataset\"\n",
    "file=\"all_data.csv\"\n",
    "data=os.path.join(folder,file)\n",
    "print(data)"
   ]
  },
  {
   "cell_type": "markdown",
   "id": "91d9030a",
   "metadata": {},
   "source": [
    "Read the dataset"
   ]
  },
  {
   "cell_type": "code",
   "execution_count": 17,
   "id": "88b40da7",
   "metadata": {},
   "outputs": [
    {
     "name": "stdout",
     "output_type": "stream",
     "text": [
      "  Export commodity(Tons) commodity_name  Billionaires per Million people  \\\n",
      "0                  58.6M   Maize (corn)                             2.42   \n",
      "1                  58.6M   Maize (corn)                             2.42   \n",
      "\n",
      "  Billionaire_Name RichestNetworld(Bn)  CrimeIndex  SafetyIndex  \\\n",
      "0        Elon Musk                $195        49.3         50.7   \n",
      "1        Elon Musk                $195        49.3         50.7   \n",
      "\n",
      "   Spend on Education % education.spend per student  \\\n",
      "0                 0.054                     $15,500   \n",
      "1                 0.054                     $15,500   \n",
      "\n",
      "  Gini coefficient(World_bank)%  ... Population.Rank  \\\n",
      "0                        41.30%  ...               3   \n",
      "1                        41.30%  ...               3   \n",
      "\n",
      "  GlobalPeaceIndex(GPI)2024(1-5)  Safety_index  GDP.Rank GDP(IMF'24)  \\\n",
      "0                          2.622          68.0         1   $28.78 Tn   \n",
      "1                          2.622          68.0         1   $28.78 Tn   \n",
      "\n",
      "   GDP(UN'22)  GDP PER CAPITAL  Population        Country  Year  \n",
      "0   $25.74 Tn          $82,877   347276000  United States  2021  \n",
      "1   $25.74 Tn          $82,877   347276000  United States  2022  \n",
      "\n",
      "[2 rows x 25 columns]\n"
     ]
    }
   ],
   "source": [
    "dataset=pd.read_csv(data)\n",
    "print(dataset[:2])"
   ]
  },
  {
   "cell_type": "code",
   "execution_count": 125,
   "id": "3fd33d39",
   "metadata": {},
   "outputs": [
    {
     "name": "stdout",
     "output_type": "stream",
     "text": [
      "Index(['Export commodity(Tons)', 'commodity_name',\n",
      "       'Billionaires per Million people', 'Billionaire_Name',\n",
      "       'RichestNetworld(Bn)', 'CrimeIndex', 'SafetyIndex',\n",
      "       'Spend on Education %', 'education.spend per student',\n",
      "       'Gini coefficient(World_bank)%', 'Gini coefficient(CIA)%', 'Area(km)',\n",
      "       'Density', 'Population_Change%', 'Global_pop%', 'Population.Rank',\n",
      "       'GlobalPeaceIndex(GPI)2024(1-5)', 'Safety_index', 'GDP.Rank',\n",
      "       'GDP(IMF'24)', 'GDP(UN'22)', 'GDP PER CAPITAL', 'Population', 'Country',\n",
      "       'Year'],\n",
      "      dtype='object')\n"
     ]
    }
   ],
   "source": [
    "print(dataset.columns)"
   ]
  },
  {
   "cell_type": "markdown",
   "id": "56b3b5bc",
   "metadata": {},
   "source": [
    "Statistic report"
   ]
  },
  {
   "cell_type": "code",
   "execution_count": 126,
   "id": "46cd479a",
   "metadata": {},
   "outputs": [
    {
     "name": "stdout",
     "output_type": "stream",
     "text": [
      "       Billionaires per Million people   CrimeIndex  SafetyIndex  \\\n",
      "count                      1651.000000  2980.000000  2980.000000   \n",
      "mean                          1.063008    45.638490    54.361510   \n",
      "std                           1.721108    14.419052    14.419052   \n",
      "min                           0.006000    15.600000    18.800000   \n",
      "25%                           0.144000    33.700000    45.000000   \n",
      "50%                           0.509000    46.400000    53.600000   \n",
      "75%                           1.093000    55.000000    66.300000   \n",
      "max                          10.892000    81.200000    84.400000   \n",
      "\n",
      "       Spend on Education %      Density  Population_Change%  Population.Rank  \\\n",
      "count           3706.000000  3784.000000         3784.000000      3784.000000   \n",
      "mean               0.042636   203.559461            0.012593        88.090645   \n",
      "std                0.017621   609.355444            0.009086        54.585284   \n",
      "min                0.002000     2.000000            0.000300         1.000000   \n",
      "25%                0.032000    37.000000            0.005600        39.000000   \n",
      "50%                0.041000    84.000000            0.010300        86.000000   \n",
      "75%                0.052000   174.000000            0.019000       133.000000   \n",
      "max                0.142000  8177.000000            0.040400       225.000000   \n",
      "\n",
      "       GlobalPeaceIndex(GPI)2024(1-5)  Safety_index     GDP.Rank  \\\n",
      "count                     3473.000000   3646.000000  3784.000000   \n",
      "mean                         2.113074     59.965716    87.006607   \n",
      "std                          0.515085     19.239012    54.792963   \n",
      "min                          1.112000     10.000000     1.000000   \n",
      "25%                          1.755000     45.250000    38.000000   \n",
      "50%                          2.053000     60.000000    84.000000   \n",
      "75%                          2.381000     77.000000   130.000000   \n",
      "max                          3.397000     95.000000   210.000000   \n",
      "\n",
      "         Population         Year  \n",
      "count  3.784000e+03  3784.000000  \n",
      "mean   5.351721e+07  2019.951110  \n",
      "std    1.758433e+08     3.651193  \n",
      "min    1.202500e+04  1992.000000  \n",
      "25%    3.517100e+06  2019.000000  \n",
      "50%    1.134600e+07  2021.000000  \n",
      "75%    3.904000e+07  2022.000000  \n",
      "max    1.463870e+09  2023.000000  \n"
     ]
    }
   ],
   "source": [
    "print(dataset.describe())"
   ]
  },
  {
   "cell_type": "markdown",
   "id": "c0ca504d",
   "metadata": {},
   "source": [
    "Features -- Input columns"
   ]
  },
  {
   "cell_type": "code",
   "execution_count": 198,
   "id": "3c9bb96f",
   "metadata": {},
   "outputs": [
    {
     "name": "stdout",
     "output_type": "stream",
     "text": [
      "   CrimeIndex  Spend on Education %  GlobalPeaceIndex(GPI)2024(1-5)  \\\n",
      "0        49.3                 0.054                           2.622   \n",
      "1        49.3                 0.054                           2.622   \n",
      "\n",
      "  GDP(IMF'24) GDP PER CAPITAL  \n",
      "0   $28.78 Tn         $82,877  \n",
      "1   $28.78 Tn         $82,877  \n"
     ]
    }
   ],
   "source": [
    "selected=[\"CrimeIndex\",\"Spend on Education %\",\"GlobalPeaceIndex(GPI)2024(1-5)\",\"GDP(IMF'24)\",\"GDP PER CAPITAL\"]\n",
    "x=dataset[selected].copy()\n",
    "print(x[:2])"
   ]
  },
  {
   "cell_type": "markdown",
   "id": "e3404c3a",
   "metadata": {},
   "source": [
    "Remove noisy values"
   ]
  },
  {
   "cell_type": "code",
   "execution_count": 199,
   "id": "a13e519c",
   "metadata": {},
   "outputs": [],
   "source": [
    "def convert_gdp(val):\n",
    "    val=str(val).replace(\"$\",\"\").strip()\n",
    "    if \"Tn\" in val:\n",
    "        return float(val.replace(\"Tn\",\"\"))*1e12\n",
    "    elif \"Bn\" in val:\n",
    "        return float(val.replace(\"Bn\",\"\"))*1e9\n",
    "    elif \"Mn\" in val:\n",
    "        return float(val.replace(\"Mn\",\"\"))*1e6\n",
    "    else:\n",
    "        return float(val)"
   ]
  },
  {
   "cell_type": "code",
   "execution_count": 200,
   "id": "b9ec64f9",
   "metadata": {},
   "outputs": [],
   "source": [
    "x[\"GDP(IMF'24)\"]=x[\"GDP(IMF'24)\"].apply(convert_gdp)"
   ]
  },
  {
   "cell_type": "code",
   "execution_count": 201,
   "id": "2e1502ce",
   "metadata": {},
   "outputs": [
    {
     "name": "stdout",
     "output_type": "stream",
     "text": [
      "0    2.878000e+13\n",
      "1    2.878000e+13\n",
      "2    2.878000e+13\n",
      "Name: GDP(IMF'24), dtype: float64\n"
     ]
    }
   ],
   "source": [
    "print(x[\"GDP(IMF'24)\"][:3])"
   ]
  },
  {
   "cell_type": "code",
   "execution_count": 202,
   "id": "9b56585d",
   "metadata": {},
   "outputs": [
    {
     "name": "stdout",
     "output_type": "stream",
     "text": [
      "0    82877\n",
      "1    82877\n",
      "2    82877\n",
      "Name: GDP PER CAPITAL, dtype: object\n"
     ]
    }
   ],
   "source": [
    "x[\"GDP PER CAPITAL\"]=x[\"GDP PER CAPITAL\"].str.replace(\"$\",\"\",regex=False).str.replace(\",\",\"\",regex=False)\n",
    "print(x[\"GDP PER CAPITAL\"][:3])"
   ]
  },
  {
   "cell_type": "code",
   "execution_count": 203,
   "id": "ce6da1c0",
   "metadata": {},
   "outputs": [],
   "source": [
    "x[\"GDP PER CAPITAL\"]=pd.to_numeric(x[\"GDP PER CAPITAL\"])"
   ]
  },
  {
   "cell_type": "markdown",
   "id": "3a0ec0e1",
   "metadata": {},
   "source": [
    "Null values check"
   ]
  },
  {
   "cell_type": "code",
   "execution_count": 204,
   "id": "786e2aa9",
   "metadata": {},
   "outputs": [
    {
     "name": "stdout",
     "output_type": "stream",
     "text": [
      "CrimeIndex                        804\n",
      "Spend on Education %               78\n",
      "GlobalPeaceIndex(GPI)2024(1-5)    311\n",
      "GDP(IMF'24)                         0\n",
      "GDP PER CAPITAL                     0\n",
      "dtype: int64\n"
     ]
    }
   ],
   "source": [
    "print(x.isnull().sum())"
   ]
  },
  {
   "cell_type": "markdown",
   "id": "34606da0",
   "metadata": {},
   "source": [
    "Imputer to fill null values"
   ]
  },
  {
   "cell_type": "code",
   "execution_count": 208,
   "id": "fc393459",
   "metadata": {},
   "outputs": [],
   "source": [
    "from sklearn.impute import SimpleImputer\n",
    "\n",
    "median=SimpleImputer(strategy=\"median\")\n",
    "mean=SimpleImputer(strategy=\"mean\")"
   ]
  },
  {
   "cell_type": "code",
   "execution_count": 209,
   "id": "18a5369c",
   "metadata": {},
   "outputs": [],
   "source": [
    "\n",
    "x[\"CrimeIndex\"]=median.fit_transform(x[[\"CrimeIndex\"]])\n",
    "x[[\"Spend on Education %\",\"GlobalPeaceIndex(GPI)2024(1-5)\"]]=mean.fit_transform(x[[\"Spend on Education %\",\n",
    "                                                                                       \"GlobalPeaceIndex(GPI)2024(1-5)\"]])"
   ]
  },
  {
   "cell_type": "code",
   "execution_count": 210,
   "id": "1254b3c6",
   "metadata": {},
   "outputs": [
    {
     "name": "stdout",
     "output_type": "stream",
     "text": [
      "CrimeIndex                        0\n",
      "Spend on Education %              0\n",
      "GlobalPeaceIndex(GPI)2024(1-5)    0\n",
      "GDP(IMF'24)                       0\n",
      "GDP PER CAPITAL                   0\n",
      "dtype: int64\n"
     ]
    }
   ],
   "source": [
    "print(x.isnull().sum())"
   ]
  },
  {
   "cell_type": "markdown",
   "id": "d2a9d1cc",
   "metadata": {},
   "source": [
    "Target --Output values"
   ]
  },
  {
   "cell_type": "code",
   "execution_count": null,
   "id": "c605bba7",
   "metadata": {},
   "outputs": [
    {
     "name": "stdout",
     "output_type": "stream",
     "text": [
      "0    41.30%\n",
      "1    41.30%\n",
      "2    41.30%\n",
      "3    41.30%\n",
      "4    41.30%\n",
      "Name: Gini coefficient(World_bank)%, dtype: object\n"
     ]
    }
   ],
   "source": [
    "y=dataset[\"Gini coefficient(World_bank)%\"].copy()\n",
    "print(y.head())"
   ]
  },
  {
   "cell_type": "markdown",
   "id": "943ca5d4",
   "metadata": {},
   "source": [
    "Remove noisy"
   ]
  },
  {
   "cell_type": "code",
   "execution_count": 213,
   "id": "5c899798",
   "metadata": {},
   "outputs": [
    {
     "name": "stdout",
     "output_type": "stream",
     "text": [
      "0    41.30\n",
      "1    41.30\n",
      "2    41.30\n",
      "3    41.30\n",
      "4    41.30\n",
      "Name: Gini coefficient(World_bank)%, dtype: object\n"
     ]
    }
   ],
   "source": [
    "y=y.str.replace(\"%\",\"\")\n",
    "print(y.head())"
   ]
  },
  {
   "cell_type": "code",
   "execution_count": 214,
   "id": "0ce96ea9",
   "metadata": {},
   "outputs": [],
   "source": [
    "y=pd.to_numeric(y,errors=\"coerce\")"
   ]
  },
  {
   "cell_type": "markdown",
   "id": "62862922",
   "metadata": {},
   "source": [
    "Check null"
   ]
  },
  {
   "cell_type": "code",
   "execution_count": 215,
   "id": "3e5ea5da",
   "metadata": {},
   "outputs": [
    {
     "name": "stdout",
     "output_type": "stream",
     "text": [
      "192\n"
     ]
    }
   ],
   "source": [
    "print(y.isnull().sum())"
   ]
  },
  {
   "cell_type": "markdown",
   "id": "880a0421",
   "metadata": {},
   "source": [
    "Fill null values"
   ]
  },
  {
   "cell_type": "code",
   "execution_count": 216,
   "id": "5f95de1d",
   "metadata": {},
   "outputs": [
    {
     "name": "stdout",
     "output_type": "stream",
     "text": [
      "0\n"
     ]
    }
   ],
   "source": [
    "y=y.fillna(y.median())\n",
    "print(y.isnull().sum())"
   ]
  },
  {
   "cell_type": "markdown",
   "id": "f6ac0c7a",
   "metadata": {},
   "source": [
    "Split data to Train and Test"
   ]
  },
  {
   "cell_type": "code",
   "execution_count": 217,
   "id": "58f8e83f",
   "metadata": {},
   "outputs": [],
   "source": [
    "from sklearn.model_selection import train_test_split \n",
    "x_train,x_test,y_train,y_test=train_test_split(x,y,test_size=0.25,random_state=0)"
   ]
  },
  {
   "cell_type": "code",
   "execution_count": 218,
   "id": "ba3b9a51",
   "metadata": {},
   "outputs": [
    {
     "name": "stdout",
     "output_type": "stream",
     "text": [
      "(2838, 5)\n",
      "(2838,)\n",
      "(946, 5)\n",
      "(946,)\n"
     ]
    }
   ],
   "source": [
    "print(x_train.shape)\n",
    "print(y_train.shape)\n",
    "print(x_test.shape)\n",
    "print(y_test.shape)"
   ]
  },
  {
   "cell_type": "markdown",
   "id": "88837ff1",
   "metadata": {},
   "source": [
    "Algorithms"
   ]
  },
  {
   "cell_type": "code",
   "execution_count": 219,
   "id": "0f1b4cd2",
   "metadata": {},
   "outputs": [],
   "source": [
    "from sklearn.tree import DecisionTreeRegressor\n",
    "from sklearn.ensemble import RandomForestRegressor\n",
    "from xgboost import XGBRegressor"
   ]
  },
  {
   "cell_type": "code",
   "execution_count": 247,
   "id": "52bd344a",
   "metadata": {},
   "outputs": [],
   "source": [
    "model1=DecisionTreeRegressor(max_depth=5,random_state=0)\n",
    "model2=RandomForestRegressor(n_estimators=200,max_depth=3,random_state=0)\n",
    "model3=XGBRegressor(n_estimators=200,max_depth=5,random_state=0,learning_rate=0.1)"
   ]
  },
  {
   "cell_type": "markdown",
   "id": "565440b8",
   "metadata": {},
   "source": [
    "cross validation in MSE"
   ]
  },
  {
   "cell_type": "code",
   "execution_count": 277,
   "id": "268770a0",
   "metadata": {},
   "outputs": [],
   "source": [
    "from sklearn.model_selection import cross_val_score\n",
    "\n",
    "cv_error1=cross_val_score(model1,x_train,y_train,cv=5,scoring=\"neg_mean_squared_error\")\n",
    "cv_error2=cross_val_score(model2,x_train,y_train,cv=5,scoring=\"neg_mean_squared_error\")\n",
    "cv_error3=cross_val_score(model3,x_train,y_train,cv=5,scoring=\"neg_mean_squared_error\")"
   ]
  },
  {
   "cell_type": "code",
   "execution_count": 279,
   "id": "9a8cd3c8",
   "metadata": {},
   "outputs": [
    {
     "name": "stdout",
     "output_type": "stream",
     "text": [
      "DecisionTree Error: [19.22621599 23.58862937 18.16348854 24.37878232 23.40703222] : Avg 21.752829685699762\n",
      "RandomForest Error: [21.49399833 27.74973561 24.69658962 30.00314369 29.03620852] : Avg 26.595935152641225\n",
      "Xgboost      Error: [0.02645877 0.02893985 0.03163047 0.03179559 0.03304939] : Avg 0.03037481234555845\n"
     ]
    }
   ],
   "source": [
    "print(f\"DecisionTree Error: {-cv_error1} : Avg {np.mean(-cv_error1)}\")\n",
    "print(f\"RandomForest Error: {-cv_error2} : Avg {np.mean(-cv_error2)}\")\n",
    "print(f\"Xgboost      Error: {-cv_error3} : Avg {np.mean(-cv_error3)}\")"
   ]
  },
  {
   "cell_type": "markdown",
   "id": "a97afd8c",
   "metadata": {},
   "source": [
    "Cross validation in r2_score"
   ]
  },
  {
   "cell_type": "code",
   "execution_count": 281,
   "id": "72120630",
   "metadata": {},
   "outputs": [],
   "source": [
    "cv_score1=cross_val_score(model1,x_train,y_train,cv=5,scoring=\"r2\")\n",
    "cv_score2=cross_val_score(model2,x_train,y_train,cv=5,scoring=\"r2\")\n",
    "cv_score3=cross_val_score(model3,x_train,y_train,cv=5,scoring=\"r2\")"
   ]
  },
  {
   "cell_type": "code",
   "execution_count": 282,
   "id": "46ea8301",
   "metadata": {},
   "outputs": [
    {
     "name": "stdout",
     "output_type": "stream",
     "text": [
      "DecisionTree R2 score:[0.58642131 0.56720884 0.64961425 0.58483894 0.57354293] Avg 0.5923252534739192\n",
      "RandomForest R2 score:[0.53763862 0.49086316 0.52358639 0.48905828 0.47098393] Avg 0.502426075045137\n",
      "Xgboost      R2 score:[0.99943084 0.99946903 0.99938983 0.99945853 0.99939787] Avg 0.999429219231527\n"
     ]
    }
   ],
   "source": [
    "print(f\"DecisionTree R2 score:{cv_score1} Avg {np.mean(cv_score1)}\")\n",
    "print(f\"RandomForest R2 score:{cv_score2} Avg {np.mean(cv_score2)}\")\n",
    "print(f\"Xgboost      R2 score:{cv_score3} Avg {np.mean(cv_score3)}\")"
   ]
  },
  {
   "cell_type": "markdown",
   "id": "bd1836d7",
   "metadata": {},
   "source": [
    "Model train"
   ]
  },
  {
   "cell_type": "code",
   "execution_count": 286,
   "id": "175e750c",
   "metadata": {},
   "outputs": [
    {
     "data": {
      "text/html": [
       "<style>#sk-container-id-5 {\n",
       "  /* Definition of color scheme common for light and dark mode */\n",
       "  --sklearn-color-text: #000;\n",
       "  --sklearn-color-text-muted: #666;\n",
       "  --sklearn-color-line: gray;\n",
       "  /* Definition of color scheme for unfitted estimators */\n",
       "  --sklearn-color-unfitted-level-0: #fff5e6;\n",
       "  --sklearn-color-unfitted-level-1: #f6e4d2;\n",
       "  --sklearn-color-unfitted-level-2: #ffe0b3;\n",
       "  --sklearn-color-unfitted-level-3: chocolate;\n",
       "  /* Definition of color scheme for fitted estimators */\n",
       "  --sklearn-color-fitted-level-0: #f0f8ff;\n",
       "  --sklearn-color-fitted-level-1: #d4ebff;\n",
       "  --sklearn-color-fitted-level-2: #b3dbfd;\n",
       "  --sklearn-color-fitted-level-3: cornflowerblue;\n",
       "\n",
       "  /* Specific color for light theme */\n",
       "  --sklearn-color-text-on-default-background: var(--sg-text-color, var(--theme-code-foreground, var(--jp-content-font-color1, black)));\n",
       "  --sklearn-color-background: var(--sg-background-color, var(--theme-background, var(--jp-layout-color0, white)));\n",
       "  --sklearn-color-border-box: var(--sg-text-color, var(--theme-code-foreground, var(--jp-content-font-color1, black)));\n",
       "  --sklearn-color-icon: #696969;\n",
       "\n",
       "  @media (prefers-color-scheme: dark) {\n",
       "    /* Redefinition of color scheme for dark theme */\n",
       "    --sklearn-color-text-on-default-background: var(--sg-text-color, var(--theme-code-foreground, var(--jp-content-font-color1, white)));\n",
       "    --sklearn-color-background: var(--sg-background-color, var(--theme-background, var(--jp-layout-color0, #111)));\n",
       "    --sklearn-color-border-box: var(--sg-text-color, var(--theme-code-foreground, var(--jp-content-font-color1, white)));\n",
       "    --sklearn-color-icon: #878787;\n",
       "  }\n",
       "}\n",
       "\n",
       "#sk-container-id-5 {\n",
       "  color: var(--sklearn-color-text);\n",
       "}\n",
       "\n",
       "#sk-container-id-5 pre {\n",
       "  padding: 0;\n",
       "}\n",
       "\n",
       "#sk-container-id-5 input.sk-hidden--visually {\n",
       "  border: 0;\n",
       "  clip: rect(1px 1px 1px 1px);\n",
       "  clip: rect(1px, 1px, 1px, 1px);\n",
       "  height: 1px;\n",
       "  margin: -1px;\n",
       "  overflow: hidden;\n",
       "  padding: 0;\n",
       "  position: absolute;\n",
       "  width: 1px;\n",
       "}\n",
       "\n",
       "#sk-container-id-5 div.sk-dashed-wrapped {\n",
       "  border: 1px dashed var(--sklearn-color-line);\n",
       "  margin: 0 0.4em 0.5em 0.4em;\n",
       "  box-sizing: border-box;\n",
       "  padding-bottom: 0.4em;\n",
       "  background-color: var(--sklearn-color-background);\n",
       "}\n",
       "\n",
       "#sk-container-id-5 div.sk-container {\n",
       "  /* jupyter's `normalize.less` sets `[hidden] { display: none; }`\n",
       "     but bootstrap.min.css set `[hidden] { display: none !important; }`\n",
       "     so we also need the `!important` here to be able to override the\n",
       "     default hidden behavior on the sphinx rendered scikit-learn.org.\n",
       "     See: https://github.com/scikit-learn/scikit-learn/issues/21755 */\n",
       "  display: inline-block !important;\n",
       "  position: relative;\n",
       "}\n",
       "\n",
       "#sk-container-id-5 div.sk-text-repr-fallback {\n",
       "  display: none;\n",
       "}\n",
       "\n",
       "div.sk-parallel-item,\n",
       "div.sk-serial,\n",
       "div.sk-item {\n",
       "  /* draw centered vertical line to link estimators */\n",
       "  background-image: linear-gradient(var(--sklearn-color-text-on-default-background), var(--sklearn-color-text-on-default-background));\n",
       "  background-size: 2px 100%;\n",
       "  background-repeat: no-repeat;\n",
       "  background-position: center center;\n",
       "}\n",
       "\n",
       "/* Parallel-specific style estimator block */\n",
       "\n",
       "#sk-container-id-5 div.sk-parallel-item::after {\n",
       "  content: \"\";\n",
       "  width: 100%;\n",
       "  border-bottom: 2px solid var(--sklearn-color-text-on-default-background);\n",
       "  flex-grow: 1;\n",
       "}\n",
       "\n",
       "#sk-container-id-5 div.sk-parallel {\n",
       "  display: flex;\n",
       "  align-items: stretch;\n",
       "  justify-content: center;\n",
       "  background-color: var(--sklearn-color-background);\n",
       "  position: relative;\n",
       "}\n",
       "\n",
       "#sk-container-id-5 div.sk-parallel-item {\n",
       "  display: flex;\n",
       "  flex-direction: column;\n",
       "}\n",
       "\n",
       "#sk-container-id-5 div.sk-parallel-item:first-child::after {\n",
       "  align-self: flex-end;\n",
       "  width: 50%;\n",
       "}\n",
       "\n",
       "#sk-container-id-5 div.sk-parallel-item:last-child::after {\n",
       "  align-self: flex-start;\n",
       "  width: 50%;\n",
       "}\n",
       "\n",
       "#sk-container-id-5 div.sk-parallel-item:only-child::after {\n",
       "  width: 0;\n",
       "}\n",
       "\n",
       "/* Serial-specific style estimator block */\n",
       "\n",
       "#sk-container-id-5 div.sk-serial {\n",
       "  display: flex;\n",
       "  flex-direction: column;\n",
       "  align-items: center;\n",
       "  background-color: var(--sklearn-color-background);\n",
       "  padding-right: 1em;\n",
       "  padding-left: 1em;\n",
       "}\n",
       "\n",
       "\n",
       "/* Toggleable style: style used for estimator/Pipeline/ColumnTransformer box that is\n",
       "clickable and can be expanded/collapsed.\n",
       "- Pipeline and ColumnTransformer use this feature and define the default style\n",
       "- Estimators will overwrite some part of the style using the `sk-estimator` class\n",
       "*/\n",
       "\n",
       "/* Pipeline and ColumnTransformer style (default) */\n",
       "\n",
       "#sk-container-id-5 div.sk-toggleable {\n",
       "  /* Default theme specific background. It is overwritten whether we have a\n",
       "  specific estimator or a Pipeline/ColumnTransformer */\n",
       "  background-color: var(--sklearn-color-background);\n",
       "}\n",
       "\n",
       "/* Toggleable label */\n",
       "#sk-container-id-5 label.sk-toggleable__label {\n",
       "  cursor: pointer;\n",
       "  display: flex;\n",
       "  width: 100%;\n",
       "  margin-bottom: 0;\n",
       "  padding: 0.5em;\n",
       "  box-sizing: border-box;\n",
       "  text-align: center;\n",
       "  align-items: start;\n",
       "  justify-content: space-between;\n",
       "  gap: 0.5em;\n",
       "}\n",
       "\n",
       "#sk-container-id-5 label.sk-toggleable__label .caption {\n",
       "  font-size: 0.6rem;\n",
       "  font-weight: lighter;\n",
       "  color: var(--sklearn-color-text-muted);\n",
       "}\n",
       "\n",
       "#sk-container-id-5 label.sk-toggleable__label-arrow:before {\n",
       "  /* Arrow on the left of the label */\n",
       "  content: \"▸\";\n",
       "  float: left;\n",
       "  margin-right: 0.25em;\n",
       "  color: var(--sklearn-color-icon);\n",
       "}\n",
       "\n",
       "#sk-container-id-5 label.sk-toggleable__label-arrow:hover:before {\n",
       "  color: var(--sklearn-color-text);\n",
       "}\n",
       "\n",
       "/* Toggleable content - dropdown */\n",
       "\n",
       "#sk-container-id-5 div.sk-toggleable__content {\n",
       "  max-height: 0;\n",
       "  max-width: 0;\n",
       "  overflow: hidden;\n",
       "  text-align: left;\n",
       "  /* unfitted */\n",
       "  background-color: var(--sklearn-color-unfitted-level-0);\n",
       "}\n",
       "\n",
       "#sk-container-id-5 div.sk-toggleable__content.fitted {\n",
       "  /* fitted */\n",
       "  background-color: var(--sklearn-color-fitted-level-0);\n",
       "}\n",
       "\n",
       "#sk-container-id-5 div.sk-toggleable__content pre {\n",
       "  margin: 0.2em;\n",
       "  border-radius: 0.25em;\n",
       "  color: var(--sklearn-color-text);\n",
       "  /* unfitted */\n",
       "  background-color: var(--sklearn-color-unfitted-level-0);\n",
       "}\n",
       "\n",
       "#sk-container-id-5 div.sk-toggleable__content.fitted pre {\n",
       "  /* unfitted */\n",
       "  background-color: var(--sklearn-color-fitted-level-0);\n",
       "}\n",
       "\n",
       "#sk-container-id-5 input.sk-toggleable__control:checked~div.sk-toggleable__content {\n",
       "  /* Expand drop-down */\n",
       "  max-height: 200px;\n",
       "  max-width: 100%;\n",
       "  overflow: auto;\n",
       "}\n",
       "\n",
       "#sk-container-id-5 input.sk-toggleable__control:checked~label.sk-toggleable__label-arrow:before {\n",
       "  content: \"▾\";\n",
       "}\n",
       "\n",
       "/* Pipeline/ColumnTransformer-specific style */\n",
       "\n",
       "#sk-container-id-5 div.sk-label input.sk-toggleable__control:checked~label.sk-toggleable__label {\n",
       "  color: var(--sklearn-color-text);\n",
       "  background-color: var(--sklearn-color-unfitted-level-2);\n",
       "}\n",
       "\n",
       "#sk-container-id-5 div.sk-label.fitted input.sk-toggleable__control:checked~label.sk-toggleable__label {\n",
       "  background-color: var(--sklearn-color-fitted-level-2);\n",
       "}\n",
       "\n",
       "/* Estimator-specific style */\n",
       "\n",
       "/* Colorize estimator box */\n",
       "#sk-container-id-5 div.sk-estimator input.sk-toggleable__control:checked~label.sk-toggleable__label {\n",
       "  /* unfitted */\n",
       "  background-color: var(--sklearn-color-unfitted-level-2);\n",
       "}\n",
       "\n",
       "#sk-container-id-5 div.sk-estimator.fitted input.sk-toggleable__control:checked~label.sk-toggleable__label {\n",
       "  /* fitted */\n",
       "  background-color: var(--sklearn-color-fitted-level-2);\n",
       "}\n",
       "\n",
       "#sk-container-id-5 div.sk-label label.sk-toggleable__label,\n",
       "#sk-container-id-5 div.sk-label label {\n",
       "  /* The background is the default theme color */\n",
       "  color: var(--sklearn-color-text-on-default-background);\n",
       "}\n",
       "\n",
       "/* On hover, darken the color of the background */\n",
       "#sk-container-id-5 div.sk-label:hover label.sk-toggleable__label {\n",
       "  color: var(--sklearn-color-text);\n",
       "  background-color: var(--sklearn-color-unfitted-level-2);\n",
       "}\n",
       "\n",
       "/* Label box, darken color on hover, fitted */\n",
       "#sk-container-id-5 div.sk-label.fitted:hover label.sk-toggleable__label.fitted {\n",
       "  color: var(--sklearn-color-text);\n",
       "  background-color: var(--sklearn-color-fitted-level-2);\n",
       "}\n",
       "\n",
       "/* Estimator label */\n",
       "\n",
       "#sk-container-id-5 div.sk-label label {\n",
       "  font-family: monospace;\n",
       "  font-weight: bold;\n",
       "  display: inline-block;\n",
       "  line-height: 1.2em;\n",
       "}\n",
       "\n",
       "#sk-container-id-5 div.sk-label-container {\n",
       "  text-align: center;\n",
       "}\n",
       "\n",
       "/* Estimator-specific */\n",
       "#sk-container-id-5 div.sk-estimator {\n",
       "  font-family: monospace;\n",
       "  border: 1px dotted var(--sklearn-color-border-box);\n",
       "  border-radius: 0.25em;\n",
       "  box-sizing: border-box;\n",
       "  margin-bottom: 0.5em;\n",
       "  /* unfitted */\n",
       "  background-color: var(--sklearn-color-unfitted-level-0);\n",
       "}\n",
       "\n",
       "#sk-container-id-5 div.sk-estimator.fitted {\n",
       "  /* fitted */\n",
       "  background-color: var(--sklearn-color-fitted-level-0);\n",
       "}\n",
       "\n",
       "/* on hover */\n",
       "#sk-container-id-5 div.sk-estimator:hover {\n",
       "  /* unfitted */\n",
       "  background-color: var(--sklearn-color-unfitted-level-2);\n",
       "}\n",
       "\n",
       "#sk-container-id-5 div.sk-estimator.fitted:hover {\n",
       "  /* fitted */\n",
       "  background-color: var(--sklearn-color-fitted-level-2);\n",
       "}\n",
       "\n",
       "/* Specification for estimator info (e.g. \"i\" and \"?\") */\n",
       "\n",
       "/* Common style for \"i\" and \"?\" */\n",
       "\n",
       ".sk-estimator-doc-link,\n",
       "a:link.sk-estimator-doc-link,\n",
       "a:visited.sk-estimator-doc-link {\n",
       "  float: right;\n",
       "  font-size: smaller;\n",
       "  line-height: 1em;\n",
       "  font-family: monospace;\n",
       "  background-color: var(--sklearn-color-background);\n",
       "  border-radius: 1em;\n",
       "  height: 1em;\n",
       "  width: 1em;\n",
       "  text-decoration: none !important;\n",
       "  margin-left: 0.5em;\n",
       "  text-align: center;\n",
       "  /* unfitted */\n",
       "  border: var(--sklearn-color-unfitted-level-1) 1pt solid;\n",
       "  color: var(--sklearn-color-unfitted-level-1);\n",
       "}\n",
       "\n",
       ".sk-estimator-doc-link.fitted,\n",
       "a:link.sk-estimator-doc-link.fitted,\n",
       "a:visited.sk-estimator-doc-link.fitted {\n",
       "  /* fitted */\n",
       "  border: var(--sklearn-color-fitted-level-1) 1pt solid;\n",
       "  color: var(--sklearn-color-fitted-level-1);\n",
       "}\n",
       "\n",
       "/* On hover */\n",
       "div.sk-estimator:hover .sk-estimator-doc-link:hover,\n",
       ".sk-estimator-doc-link:hover,\n",
       "div.sk-label-container:hover .sk-estimator-doc-link:hover,\n",
       ".sk-estimator-doc-link:hover {\n",
       "  /* unfitted */\n",
       "  background-color: var(--sklearn-color-unfitted-level-3);\n",
       "  color: var(--sklearn-color-background);\n",
       "  text-decoration: none;\n",
       "}\n",
       "\n",
       "div.sk-estimator.fitted:hover .sk-estimator-doc-link.fitted:hover,\n",
       ".sk-estimator-doc-link.fitted:hover,\n",
       "div.sk-label-container:hover .sk-estimator-doc-link.fitted:hover,\n",
       ".sk-estimator-doc-link.fitted:hover {\n",
       "  /* fitted */\n",
       "  background-color: var(--sklearn-color-fitted-level-3);\n",
       "  color: var(--sklearn-color-background);\n",
       "  text-decoration: none;\n",
       "}\n",
       "\n",
       "/* Span, style for the box shown on hovering the info icon */\n",
       ".sk-estimator-doc-link span {\n",
       "  display: none;\n",
       "  z-index: 9999;\n",
       "  position: relative;\n",
       "  font-weight: normal;\n",
       "  right: .2ex;\n",
       "  padding: .5ex;\n",
       "  margin: .5ex;\n",
       "  width: min-content;\n",
       "  min-width: 20ex;\n",
       "  max-width: 50ex;\n",
       "  color: var(--sklearn-color-text);\n",
       "  box-shadow: 2pt 2pt 4pt #999;\n",
       "  /* unfitted */\n",
       "  background: var(--sklearn-color-unfitted-level-0);\n",
       "  border: .5pt solid var(--sklearn-color-unfitted-level-3);\n",
       "}\n",
       "\n",
       ".sk-estimator-doc-link.fitted span {\n",
       "  /* fitted */\n",
       "  background: var(--sklearn-color-fitted-level-0);\n",
       "  border: var(--sklearn-color-fitted-level-3);\n",
       "}\n",
       "\n",
       ".sk-estimator-doc-link:hover span {\n",
       "  display: block;\n",
       "}\n",
       "\n",
       "/* \"?\"-specific style due to the `<a>` HTML tag */\n",
       "\n",
       "#sk-container-id-5 a.estimator_doc_link {\n",
       "  float: right;\n",
       "  font-size: 1rem;\n",
       "  line-height: 1em;\n",
       "  font-family: monospace;\n",
       "  background-color: var(--sklearn-color-background);\n",
       "  border-radius: 1rem;\n",
       "  height: 1rem;\n",
       "  width: 1rem;\n",
       "  text-decoration: none;\n",
       "  /* unfitted */\n",
       "  color: var(--sklearn-color-unfitted-level-1);\n",
       "  border: var(--sklearn-color-unfitted-level-1) 1pt solid;\n",
       "}\n",
       "\n",
       "#sk-container-id-5 a.estimator_doc_link.fitted {\n",
       "  /* fitted */\n",
       "  border: var(--sklearn-color-fitted-level-1) 1pt solid;\n",
       "  color: var(--sklearn-color-fitted-level-1);\n",
       "}\n",
       "\n",
       "/* On hover */\n",
       "#sk-container-id-5 a.estimator_doc_link:hover {\n",
       "  /* unfitted */\n",
       "  background-color: var(--sklearn-color-unfitted-level-3);\n",
       "  color: var(--sklearn-color-background);\n",
       "  text-decoration: none;\n",
       "}\n",
       "\n",
       "#sk-container-id-5 a.estimator_doc_link.fitted:hover {\n",
       "  /* fitted */\n",
       "  background-color: var(--sklearn-color-fitted-level-3);\n",
       "}\n",
       "</style><div id=\"sk-container-id-5\" class=\"sk-top-container\"><div class=\"sk-text-repr-fallback\"><pre>XGBRegressor(base_score=None, booster=None, callbacks=None,\n",
       "             colsample_bylevel=None, colsample_bynode=None,\n",
       "             colsample_bytree=None, device=None, early_stopping_rounds=None,\n",
       "             enable_categorical=False, eval_metric=None, feature_types=None,\n",
       "             gamma=None, grow_policy=None, importance_type=None,\n",
       "             interaction_constraints=None, learning_rate=0.1, max_bin=None,\n",
       "             max_cat_threshold=None, max_cat_to_onehot=None,\n",
       "             max_delta_step=None, max_depth=5, max_leaves=None,\n",
       "             min_child_weight=None, missing=nan, monotone_constraints=None,\n",
       "             multi_strategy=None, n_estimators=200, n_jobs=None,\n",
       "             num_parallel_tree=None, random_state=0, ...)</pre><b>In a Jupyter environment, please rerun this cell to show the HTML representation or trust the notebook. <br />On GitHub, the HTML representation is unable to render, please try loading this page with nbviewer.org.</b></div><div class=\"sk-container\" hidden><div class=\"sk-item\"><div class=\"sk-estimator fitted sk-toggleable\"><input class=\"sk-toggleable__control sk-hidden--visually\" id=\"sk-estimator-id-5\" type=\"checkbox\" checked><label for=\"sk-estimator-id-5\" class=\"sk-toggleable__label fitted sk-toggleable__label-arrow\"><div><div>XGBRegressor</div></div><div><span class=\"sk-estimator-doc-link fitted\">i<span>Fitted</span></span></div></label><div class=\"sk-toggleable__content fitted\"><pre>XGBRegressor(base_score=None, booster=None, callbacks=None,\n",
       "             colsample_bylevel=None, colsample_bynode=None,\n",
       "             colsample_bytree=None, device=None, early_stopping_rounds=None,\n",
       "             enable_categorical=False, eval_metric=None, feature_types=None,\n",
       "             gamma=None, grow_policy=None, importance_type=None,\n",
       "             interaction_constraints=None, learning_rate=0.1, max_bin=None,\n",
       "             max_cat_threshold=None, max_cat_to_onehot=None,\n",
       "             max_delta_step=None, max_depth=5, max_leaves=None,\n",
       "             min_child_weight=None, missing=nan, monotone_constraints=None,\n",
       "             multi_strategy=None, n_estimators=200, n_jobs=None,\n",
       "             num_parallel_tree=None, random_state=0, ...)</pre></div> </div></div></div></div>"
      ],
      "text/plain": [
       "XGBRegressor(base_score=None, booster=None, callbacks=None,\n",
       "             colsample_bylevel=None, colsample_bynode=None,\n",
       "             colsample_bytree=None, device=None, early_stopping_rounds=None,\n",
       "             enable_categorical=False, eval_metric=None, feature_types=None,\n",
       "             gamma=None, grow_policy=None, importance_type=None,\n",
       "             interaction_constraints=None, learning_rate=0.1, max_bin=None,\n",
       "             max_cat_threshold=None, max_cat_to_onehot=None,\n",
       "             max_delta_step=None, max_depth=5, max_leaves=None,\n",
       "             min_child_weight=None, missing=nan, monotone_constraints=None,\n",
       "             multi_strategy=None, n_estimators=200, n_jobs=None,\n",
       "             num_parallel_tree=None, random_state=0, ...)"
      ]
     },
     "execution_count": 286,
     "metadata": {},
     "output_type": "execute_result"
    }
   ],
   "source": [
    "model3.fit(x_train,y_train)"
   ]
  },
  {
   "cell_type": "markdown",
   "id": "84ca2267",
   "metadata": {},
   "source": [
    "Model save"
   ]
  },
  {
   "cell_type": "code",
   "execution_count": 287,
   "id": "bf755b2b",
   "metadata": {},
   "outputs": [],
   "source": [
    "import pickle\n",
    "with open(\"Trained_model.pkl\",\"wb\") as f:\n",
    "    pickle.dump(model3,f)"
   ]
  },
  {
   "cell_type": "markdown",
   "id": "e12e067b",
   "metadata": {},
   "source": [
    "Prediction"
   ]
  },
  {
   "cell_type": "code",
   "execution_count": 288,
   "id": "9a97748a",
   "metadata": {},
   "outputs": [],
   "source": [
    "y_pred=model3.predict(x_test)"
   ]
  },
  {
   "cell_type": "markdown",
   "id": "46bea165",
   "metadata": {},
   "source": [
    "Test Mean_Squared_Error and R2_score"
   ]
  },
  {
   "cell_type": "code",
   "execution_count": 289,
   "id": "68a6b806",
   "metadata": {},
   "outputs": [
    {
     "name": "stdout",
     "output_type": "stream",
     "text": [
      "xgboost MSE: 0.02419725614037578\n"
     ]
    }
   ],
   "source": [
    "from sklearn.metrics import mean_squared_error,r2_score\n",
    "mse=mean_squared_error(y_test,y_pred)\n",
    "print(f\"xgboost MSE: {mse}\")"
   ]
  },
  {
   "cell_type": "code",
   "execution_count": 290,
   "id": "28e7cba5",
   "metadata": {},
   "outputs": [
    {
     "name": "stdout",
     "output_type": "stream",
     "text": [
      "Xgboost r2_score: 0.9995629665896157\n"
     ]
    }
   ],
   "source": [
    "score=r2_score(y_test,y_pred)\n",
    "print(f\"Xgboost r2_score: {score}\")"
   ]
  },
  {
   "cell_type": "markdown",
   "id": "547b762b",
   "metadata": {},
   "source": [
    "New data prediction"
   ]
  },
  {
   "cell_type": "code",
   "execution_count": 312,
   "id": "d37a52d5",
   "metadata": {},
   "outputs": [],
   "source": [
    "new_data=[[49.3,0.054,2.622,2.878000e+13,82877]]  \n",
    "df=pd.DataFrame(new_data,columns=x.columns)\n",
    "r=model3.predict(df)"
   ]
  },
  {
   "cell_type": "markdown",
   "id": "61431d9b",
   "metadata": {},
   "source": [
    "Classify in the range of inequality %"
   ]
  },
  {
   "cell_type": "code",
   "execution_count": 313,
   "id": "5e2643a5",
   "metadata": {},
   "outputs": [
    {
     "name": "stdout",
     "output_type": "stream",
     "text": [
      "[41.20891] : High Inequality\n"
     ]
    }
   ],
   "source": [
    "if r<=25:\n",
    "    print(f\"{r} : Very Low Inequality\")\n",
    "elif r<=30:\n",
    "    print(f\"{r} : Low Inequality\")\n",
    "elif r<=40:\n",
    "    print(f\"{r} : Moderate Inequality\") \n",
    "elif r<=45:\n",
    "    print(f\"{r} : High Inequality\")\n",
    "elif r<=50:\n",
    "    print(f\"{r} : Very high Inequality\")\n",
    "else:\n",
    "    print(f\"{r} : Extreme Inequality\")        \n",
    "               "
   ]
  }
 ],
 "metadata": {
  "kernelspec": {
   "display_name": "Python 3",
   "language": "python",
   "name": "python3"
  },
  "language_info": {
   "codemirror_mode": {
    "name": "ipython",
    "version": 3
   },
   "file_extension": ".py",
   "mimetype": "text/x-python",
   "name": "python",
   "nbconvert_exporter": "python",
   "pygments_lexer": "ipython3",
   "version": "3.9.6"
  }
 },
 "nbformat": 4,
 "nbformat_minor": 5
}
